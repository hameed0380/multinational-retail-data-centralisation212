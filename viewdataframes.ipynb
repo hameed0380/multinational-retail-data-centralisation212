{
 "cells": [
  {
   "cell_type": "code",
   "execution_count": 1,
   "metadata": {},
   "outputs": [],
   "source": [
    "import pandas as pd\n",
    "import re\n",
    "from data_extraction import DataExtractor, DatabaseConnector\n",
    "from database_utils import DatabaseConnector\n",
    "from data_cleaning import DataCleaning\n"
   ]
  },
  {
   "cell_type": "code",
   "execution_count": 2,
   "metadata": {},
   "outputs": [
    {
     "name": "stdout",
     "output_type": "stream",
     "text": [
      "['legacy_store_details', 'legacy_users', 'orders_table']\n"
     ]
    },
    {
     "name": "stderr",
     "output_type": "stream",
     "text": [
      "Error importing jpype dependencies. Fallback to subprocess.\n",
      "No module named 'jpype'\n"
     ]
    },
    {
     "name": "stdout",
     "output_type": "stream",
     "text": [
      "Status Code: 200\n",
      "API Response: {'statusCode': 200, 'number_stores': 451}\n",
      "     index                                            address  longitude  \\\n",
      "0        0                                                N/A        NaN   \n",
      "1        1  Flat 72W, Sally isle, East Deantown, E7B 8EB, ...   51.62907   \n",
      "2        2        Heckerstraße 4/5, 50491 Säckingen, Landshut   48.52961   \n",
      "3        3  5 Harrison tunnel, South Lydia, WC9 2BE, Westbury   51.26000   \n",
      "4        4  Studio 6, Stephen landing, South Simon, B77 2W...   53.02330   \n",
      "..     ...                                                ...        ...   \n",
      "445    445  Flat 7, Stephanie lake, Morrisside, HP8 8LH, C...   50.76306   \n",
      "446    446    Täschestraße 25, 39039 Nördlingen, Kirchlengern   52.20000   \n",
      "448    448  Studio 8, Moss mall, West Linda, M0E 6XR, High...   51.62907   \n",
      "449    449               Baumplatz 6, 80114 Kötzting, Bretten   49.03685   \n",
      "450    450  Gotthilf-Rose-Straße 7/3, 45457 Feuchtwangen, ...   50.64336   \n",
      "\n",
      "         locality    store_code  staff_numbers opening_date   store_type  \\\n",
      "0             N/A  WEB-1388012W            325   2010-06-12   Web Portal   \n",
      "1    High Wycombe   HI-9B97EE4E             34   1996-10-25        Local   \n",
      "2        Landshut   LA-0772C7B9             92   2013-04-12  Super Store   \n",
      "3        Westbury   WE-1DE82CEE             69   2014-01-02  Super Store   \n",
      "4          Belper   BE-18074576             35   2019-09-09        Local   \n",
      "..            ...           ...            ...          ...          ...   \n",
      "445         Cowes   CO-473A9FBB             94   2008-06-08  Super Store   \n",
      "446  Kirchlengern   KI-78096E8C             61   2005-05-12  Super Store   \n",
      "448  High Wycombe   HI-EEA7AE62             33   1998-05-14        Local   \n",
      "449       Bretten   BR-662EC74C             35   2020-10-17        Local   \n",
      "450    Bad Honnef   BA-B4AED588             36   2001-05-12        Local   \n",
      "\n",
      "     latitude country_code continent  \n",
      "0         NaN           GB    Europe  \n",
      "1    -0.74934           GB    Europe  \n",
      "2    12.16179           DE    Europe  \n",
      "3    -2.18750           GB    Europe  \n",
      "4    -1.48119           GB    Europe  \n",
      "..        ...          ...       ...  \n",
      "445  -1.29772           GB    Europe  \n",
      "446   8.63333           DE    Europe  \n",
      "448  -0.74934           GB    Europe  \n",
      "449   8.70745           DE    Europe  \n",
      "450   7.22780           DE    Europe  \n",
      "\n",
      "[441 rows x 11 columns]\n",
      "index               int64\n",
      "address            object\n",
      "longitude         float64\n",
      "locality           object\n",
      "store_code         object\n",
      "staff_numbers       int32\n",
      "opening_date       object\n",
      "store_type       category\n",
      "latitude          float64\n",
      "country_code     category\n",
      "continent          object\n",
      "dtype: object\n"
     ]
    }
   ],
   "source": [
    "RDS_CONNECTOR = DatabaseConnector()\n",
    "RDS_CONNECTOR.init_db_engine()\n",
    "RDS_CONNECTOR.list_db_tables()\n",
    "\n",
    "lamb = DataExtractor()\n",
    "# ['legacy_store_details', 'legacy_users', 'orders_table']\n",
    "# print(lamb.read_rds_table('legacy_users'))\n",
    "cleaned_user = lamb.read_rds_table('legacy_users')\n",
    "\n",
    "\n",
    "\n",
    "test_clean = DataCleaning()\n",
    "i = test_clean.clean_user_data(cleaned_user)\n",
    "#RDS_CONNECTOR.upload_to_db(i, 'dim_users')\n",
    "retrieved_data = lamb.retrieve_pdf_data('https://data-handling-public.s3.eu-west-1.amazonaws.com/card_details.pdf')\n",
    "#print(retrieved_data)\n",
    "cleaned = test_clean.clean_card_data(retrieved_data)\n",
    "RDS_CONNECTOR.upload_to_db(cleaned, 'dim_card_details')\n",
    "\n",
    "api_key = 'yFBQbwXe9J3sd6zWVAMrK6lcxxr0q1lr2PT6DDMX'\n",
    "endpoint = 'https://aqj7u5id95.execute-api.eu-west-1.amazonaws.com/prod/number_stores'\n",
    "\n",
    "headers = {'x-api-key': api_key}\n",
    "\n",
    "number_of_stores = lamb.list_number_of_stores(endpoint, headers)\n",
    "\n",
    "other = 'https://aqj7u5id95.execute-api.eu-west-1.amazonaws.com/prod/store_details/'\n",
    "stores_data = lamb.retrieve_stores_data(other, headers, number_of_stores)\n",
    "cleaned1 = test_clean.clean_store_data(stores_data)\n",
    "RDS_CONNECTOR.upload_to_db(cleaned1, 'dim_store_details')\n"
   ]
  },
  {
   "cell_type": "code",
   "execution_count": null,
   "metadata": {},
   "outputs": [],
   "source": []
  }
 ],
 "metadata": {
  "kernelspec": {
   "display_name": "Python 3",
   "language": "python",
   "name": "python3"
  },
  "language_info": {
   "codemirror_mode": {
    "name": "ipython",
    "version": 3
   },
   "file_extension": ".py",
   "mimetype": "text/x-python",
   "name": "python",
   "nbconvert_exporter": "python",
   "pygments_lexer": "ipython3",
   "version": "3.11.6"
  }
 },
 "nbformat": 4,
 "nbformat_minor": 2
}
